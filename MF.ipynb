{
 "cells": [
  {
   "cell_type": "code",
   "execution_count": 15,
   "id": "9e269f25-09fa-41d5-b1c9-b012e05c34e1",
   "metadata": {
    "collapsed": true,
    "jupyter": {
     "outputs_hidden": true
    }
   },
   "outputs": [],
   "source": [
    "import pandas as pd\n",
    "\n",
    "url = \"https://api.mfapi.in/mf\"\n",
    "df = pd.read_json(url)"
   ]
  },
  {
   "cell_type": "code",
   "execution_count": 16,
   "id": "b0744817-4457-4f2a-bfcc-e455de83bc00",
   "metadata": {
    "collapsed": true,
    "jupyter": {
     "outputs_hidden": true
    }
   },
   "outputs": [
    {
     "data": {
      "text/html": [
       "<div>\n",
       "<style scoped>\n",
       "    .dataframe tbody tr th:only-of-type {\n",
       "        vertical-align: middle;\n",
       "    }\n",
       "\n",
       "    .dataframe tbody tr th {\n",
       "        vertical-align: top;\n",
       "    }\n",
       "\n",
       "    .dataframe thead th {\n",
       "        text-align: right;\n",
       "    }\n",
       "</style>\n",
       "<table border=\"1\" class=\"dataframe\">\n",
       "  <thead>\n",
       "    <tr style=\"text-align: right;\">\n",
       "      <th></th>\n",
       "      <th>schemeCode</th>\n",
       "      <th>schemeName</th>\n",
       "      <th>isinGrowth</th>\n",
       "      <th>isinDivReinvestment</th>\n",
       "    </tr>\n",
       "  </thead>\n",
       "  <tbody>\n",
       "    <tr>\n",
       "      <th>0</th>\n",
       "      <td>100027</td>\n",
       "      <td>Grindlays Super Saver Income Fund-GSSIF-Half Y...</td>\n",
       "      <td>None</td>\n",
       "      <td>None</td>\n",
       "    </tr>\n",
       "    <tr>\n",
       "      <th>1</th>\n",
       "      <td>100028</td>\n",
       "      <td>Grindlays Super Saver Income Fund-GSSIF-Quater...</td>\n",
       "      <td>None</td>\n",
       "      <td>None</td>\n",
       "    </tr>\n",
       "    <tr>\n",
       "      <th>2</th>\n",
       "      <td>100029</td>\n",
       "      <td>Grindlays Super Saver Income Fund-GSSIF-Growth</td>\n",
       "      <td>None</td>\n",
       "      <td>None</td>\n",
       "    </tr>\n",
       "    <tr>\n",
       "      <th>3</th>\n",
       "      <td>100030</td>\n",
       "      <td>Grindlays Super Saver Income Fund-GSSIF-Annual...</td>\n",
       "      <td>None</td>\n",
       "      <td>None</td>\n",
       "    </tr>\n",
       "    <tr>\n",
       "      <th>4</th>\n",
       "      <td>100031</td>\n",
       "      <td>Grindlays Super Saver Income Fund-GSSIF - ST-D...</td>\n",
       "      <td>None</td>\n",
       "      <td>None</td>\n",
       "    </tr>\n",
       "  </tbody>\n",
       "</table>\n",
       "</div>"
      ],
      "text/plain": [
       "   schemeCode                                         schemeName isinGrowth  \\\n",
       "0      100027  Grindlays Super Saver Income Fund-GSSIF-Half Y...       None   \n",
       "1      100028  Grindlays Super Saver Income Fund-GSSIF-Quater...       None   \n",
       "2      100029     Grindlays Super Saver Income Fund-GSSIF-Growth       None   \n",
       "3      100030  Grindlays Super Saver Income Fund-GSSIF-Annual...       None   \n",
       "4      100031  Grindlays Super Saver Income Fund-GSSIF - ST-D...       None   \n",
       "\n",
       "  isinDivReinvestment  \n",
       "0                None  \n",
       "1                None  \n",
       "2                None  \n",
       "3                None  \n",
       "4                None  "
      ]
     },
     "execution_count": 16,
     "metadata": {},
     "output_type": "execute_result"
    }
   ],
   "source": [
    "df.head()"
   ]
  },
  {
   "cell_type": "code",
   "execution_count": 17,
   "id": "fc882d36-8ea2-4310-a18f-12fe8766d57b",
   "metadata": {
    "collapsed": true,
    "jupyter": {
     "outputs_hidden": true
    }
   },
   "outputs": [
    {
     "data": {
      "text/html": [
       "<div>\n",
       "<style scoped>\n",
       "    .dataframe tbody tr th:only-of-type {\n",
       "        vertical-align: middle;\n",
       "    }\n",
       "\n",
       "    .dataframe tbody tr th {\n",
       "        vertical-align: top;\n",
       "    }\n",
       "\n",
       "    .dataframe thead th {\n",
       "        text-align: right;\n",
       "    }\n",
       "</style>\n",
       "<table border=\"1\" class=\"dataframe\">\n",
       "  <thead>\n",
       "    <tr style=\"text-align: right;\">\n",
       "      <th></th>\n",
       "      <th>schemeCode</th>\n",
       "      <th>schemeName</th>\n",
       "      <th>isinGrowth</th>\n",
       "      <th>isinDivReinvestment</th>\n",
       "    </tr>\n",
       "  </thead>\n",
       "  <tbody>\n",
       "    <tr>\n",
       "      <th>52</th>\n",
       "      <td>100119</td>\n",
       "      <td>HDFC Balanced Advantage Fund - Growth Plan</td>\n",
       "      <td>INF179K01830</td>\n",
       "      <td>None</td>\n",
       "    </tr>\n",
       "    <tr>\n",
       "      <th>53</th>\n",
       "      <td>100120</td>\n",
       "      <td>HDFC Balanced Advantage Fund - IDCW Plan</td>\n",
       "      <td>INF179K01814</td>\n",
       "      <td>INF179K01822</td>\n",
       "    </tr>\n",
       "    <tr>\n",
       "      <th>54</th>\n",
       "      <td>100121</td>\n",
       "      <td>HDFC Balanced Fund - Dividend Option</td>\n",
       "      <td>None</td>\n",
       "      <td>None</td>\n",
       "    </tr>\n",
       "    <tr>\n",
       "      <th>55</th>\n",
       "      <td>100122</td>\n",
       "      <td>HDFC Balanced Fund - Growth Option</td>\n",
       "      <td>None</td>\n",
       "      <td>None</td>\n",
       "    </tr>\n",
       "    <tr>\n",
       "      <th>56</th>\n",
       "      <td>100123</td>\n",
       "      <td>HDFC Income Fund - Quarterly IDCW Option</td>\n",
       "      <td>INF179K01947</td>\n",
       "      <td>INF179K01954</td>\n",
       "    </tr>\n",
       "  </tbody>\n",
       "</table>\n",
       "</div>"
      ],
      "text/plain": [
       "    schemeCode                                  schemeName    isinGrowth  \\\n",
       "52      100119  HDFC Balanced Advantage Fund - Growth Plan  INF179K01830   \n",
       "53      100120    HDFC Balanced Advantage Fund - IDCW Plan  INF179K01814   \n",
       "54      100121        HDFC Balanced Fund - Dividend Option          None   \n",
       "55      100122          HDFC Balanced Fund - Growth Option          None   \n",
       "56      100123    HDFC Income Fund - Quarterly IDCW Option  INF179K01947   \n",
       "\n",
       "   isinDivReinvestment  \n",
       "52                None  \n",
       "53        INF179K01822  \n",
       "54                None  \n",
       "55                None  \n",
       "56        INF179K01954  "
      ]
     },
     "execution_count": 17,
     "metadata": {},
     "output_type": "execute_result"
    }
   ],
   "source": [
    "hdfc = df[df['schemeName'].str.contains('^HDFC')] # fetches funds by HDFC AMC\n",
    "hdfc.head()"
   ]
  },
  {
   "cell_type": "code",
   "execution_count": 18,
   "id": "a362deeb-c935-4645-83b6-1ce2c4eb1d81",
   "metadata": {
    "collapsed": true,
    "jupyter": {
     "outputs_hidden": true
    }
   },
   "outputs": [
    {
     "data": {
      "text/plain": [
       "3291"
      ]
     },
     "execution_count": 18,
     "metadata": {},
     "output_type": "execute_result"
    }
   ],
   "source": [
    "#Total funds in HDFC AMC\n",
    "len(hdfc)"
   ]
  },
  {
   "cell_type": "code",
   "execution_count": 19,
   "id": "9412f341-2f47-4a76-b387-a944f9f26b1d",
   "metadata": {
    "collapsed": true,
    "jupyter": {
     "outputs_hidden": true
    }
   },
   "outputs": [
    {
     "data": {
      "text/html": [
       "<div>\n",
       "<style scoped>\n",
       "    .dataframe tbody tr th:only-of-type {\n",
       "        vertical-align: middle;\n",
       "    }\n",
       "\n",
       "    .dataframe tbody tr th {\n",
       "        vertical-align: top;\n",
       "    }\n",
       "\n",
       "    .dataframe thead th {\n",
       "        text-align: right;\n",
       "    }\n",
       "</style>\n",
       "<table border=\"1\" class=\"dataframe\">\n",
       "  <thead>\n",
       "    <tr style=\"text-align: right;\">\n",
       "      <th></th>\n",
       "      <th>schemeCode</th>\n",
       "      <th>schemeName</th>\n",
       "      <th>isinGrowth</th>\n",
       "      <th>isinDivReinvestment</th>\n",
       "    </tr>\n",
       "  </thead>\n",
       "  <tbody>\n",
       "    <tr>\n",
       "      <th>578</th>\n",
       "      <td>101281</td>\n",
       "      <td>HDFC BSE Sensex Index Fund - Growth Plan</td>\n",
       "      <td>INF179K01LA9</td>\n",
       "      <td>None</td>\n",
       "    </tr>\n",
       "    <tr>\n",
       "      <th>579</th>\n",
       "      <td>101282</td>\n",
       "      <td>HDFC Index Fund-Sensex Plus( FV-Rs32.161)</td>\n",
       "      <td>None</td>\n",
       "      <td>None</td>\n",
       "    </tr>\n",
       "    <tr>\n",
       "      <th>663</th>\n",
       "      <td>101525</td>\n",
       "      <td>HDFC Nifty 50 Index Fund - Growth Plan</td>\n",
       "      <td>INF179K01KZ8</td>\n",
       "      <td>None</td>\n",
       "    </tr>\n",
       "    <tr>\n",
       "      <th>14037</th>\n",
       "      <td>119063</td>\n",
       "      <td>HDFC Nifty 50 Index Fund - Direct Plan</td>\n",
       "      <td>INF179K01WM1</td>\n",
       "      <td>None</td>\n",
       "    </tr>\n",
       "    <tr>\n",
       "      <th>14038</th>\n",
       "      <td>119064</td>\n",
       "      <td>HDFC Index Fund Sensex Plus Plan-Direct Plan</td>\n",
       "      <td>None</td>\n",
       "      <td>None</td>\n",
       "    </tr>\n",
       "  </tbody>\n",
       "</table>\n",
       "</div>"
      ],
      "text/plain": [
       "       schemeCode                                    schemeName    isinGrowth  \\\n",
       "578        101281      HDFC BSE Sensex Index Fund - Growth Plan  INF179K01LA9   \n",
       "579        101282     HDFC Index Fund-Sensex Plus( FV-Rs32.161)          None   \n",
       "663        101525        HDFC Nifty 50 Index Fund - Growth Plan  INF179K01KZ8   \n",
       "14037      119063        HDFC Nifty 50 Index Fund - Direct Plan  INF179K01WM1   \n",
       "14038      119064  HDFC Index Fund Sensex Plus Plan-Direct Plan          None   \n",
       "\n",
       "      isinDivReinvestment  \n",
       "578                  None  \n",
       "579                  None  \n",
       "663                  None  \n",
       "14037                None  \n",
       "14038                None  "
      ]
     },
     "execution_count": 19,
     "metadata": {},
     "output_type": "execute_result"
    }
   ],
   "source": [
    "hdfc_index = hdfc[hdfc['schemeName'].str.contains('Index Fund')]\n",
    "hdfc_index.head()"
   ]
  },
  {
   "cell_type": "code",
   "execution_count": 20,
   "id": "6a23a629-b29e-4382-ab73-2fae9cf11a22",
   "metadata": {
    "collapsed": true,
    "jupyter": {
     "outputs_hidden": true
    }
   },
   "outputs": [
    {
     "data": {
      "text/plain": [
       "53"
      ]
     },
     "execution_count": 20,
     "metadata": {},
     "output_type": "execute_result"
    }
   ],
   "source": [
    "# Number of index funds in HDFC AMC\n",
    "len(hdfc_index)"
   ]
  },
  {
   "cell_type": "code",
   "execution_count": 21,
   "id": "8dde0ef7-1aa2-4a7a-9387-04e103c88ba4",
   "metadata": {
    "collapsed": true,
    "jupyter": {
     "outputs_hidden": true
    }
   },
   "outputs": [
    {
     "data": {
      "text/html": [
       "<div>\n",
       "<style scoped>\n",
       "    .dataframe tbody tr th:only-of-type {\n",
       "        vertical-align: middle;\n",
       "    }\n",
       "\n",
       "    .dataframe tbody tr th {\n",
       "        vertical-align: top;\n",
       "    }\n",
       "\n",
       "    .dataframe thead th {\n",
       "        text-align: right;\n",
       "    }\n",
       "</style>\n",
       "<table border=\"1\" class=\"dataframe\">\n",
       "  <thead>\n",
       "    <tr style=\"text-align: right;\">\n",
       "      <th></th>\n",
       "      <th>schemeCode</th>\n",
       "      <th>schemeName</th>\n",
       "      <th>isinGrowth</th>\n",
       "      <th>isinDivReinvestment</th>\n",
       "    </tr>\n",
       "  </thead>\n",
       "  <tbody>\n",
       "    <tr>\n",
       "      <th>14039</th>\n",
       "      <td>119065</td>\n",
       "      <td>HDFC BSE Sensex Index Fund - Direct Plan</td>\n",
       "      <td>INF179K01WN9</td>\n",
       "      <td>None</td>\n",
       "    </tr>\n",
       "  </tbody>\n",
       "</table>\n",
       "</div>"
      ],
      "text/plain": [
       "       schemeCode                                schemeName    isinGrowth  \\\n",
       "14039      119065  HDFC BSE Sensex Index Fund - Direct Plan  INF179K01WN9   \n",
       "\n",
       "      isinDivReinvestment  \n",
       "14039                None  "
      ]
     },
     "execution_count": 21,
     "metadata": {},
     "output_type": "execute_result"
    }
   ],
   "source": [
    "schemeCode = 119065\n",
    "hdfc[hdfc['schemeCode']==schemeCode]"
   ]
  },
  {
   "cell_type": "code",
   "execution_count": 116,
   "id": "01b8ec76-8f99-4924-b2f2-d16d3d8fbd4f",
   "metadata": {
    "collapsed": true,
    "jupyter": {
     "outputs_hidden": true
    }
   },
   "outputs": [
    {
     "name": "stdout",
     "output_type": "stream",
     "text": [
      "Success!\n"
     ]
    }
   ],
   "source": [
    "# data about a fund\n",
    "import json\n",
    "from urllib.request import urlopen\n",
    "\n",
    "response = urlopen(url+'/'+str(schemeCode))\n",
    "if response.getcode()==200:\n",
    "    print(\"Success!\")\n",
    "    data = json.loads(response.read().decode('utf-8'))\n",
    "fund_df = pd.DataFrame(data['data'])\n",
    "fund_df = fund_df.iloc[::-1] # reverse the dataframe"
   ]
  },
  {
   "cell_type": "code",
   "execution_count": 118,
   "id": "862773a7-c642-486d-a0c8-e83d9d5d2a68",
   "metadata": {
    "collapsed": true,
    "jupyter": {
     "outputs_hidden": true
    }
   },
   "outputs": [],
   "source": [
    "fund_name = data['meta']['scheme_name']"
   ]
  },
  {
   "cell_type": "code",
   "execution_count": 121,
   "id": "680b2c99-10fe-44d8-b915-796e7ded3acc",
   "metadata": {
    "collapsed": true,
    "jupyter": {
     "outputs_hidden": true
    }
   },
   "outputs": [],
   "source": [
    "# change datatype to float\n",
    "fund_df['nav'] = fund_df['nav'].astype('float')\n",
    "# change datatype to datetime\n",
    "fund_df['date'] = pd.to_datetime(fund_df['date'], format='%d-%m-%Y')\n",
    "# set date as index\n",
    "fund_df = fund_df.set_index('date')"
   ]
  },
  {
   "cell_type": "code",
   "execution_count": 122,
   "id": "a3b609e3-f99a-4845-89fd-ff54e032b588",
   "metadata": {
    "collapsed": true,
    "jupyter": {
     "outputs_hidden": true
    }
   },
   "outputs": [
    {
     "data": {
      "text/html": [
       "<div>\n",
       "<style scoped>\n",
       "    .dataframe tbody tr th:only-of-type {\n",
       "        vertical-align: middle;\n",
       "    }\n",
       "\n",
       "    .dataframe tbody tr th {\n",
       "        vertical-align: top;\n",
       "    }\n",
       "\n",
       "    .dataframe thead th {\n",
       "        text-align: right;\n",
       "    }\n",
       "</style>\n",
       "<table border=\"1\" class=\"dataframe\">\n",
       "  <thead>\n",
       "    <tr style=\"text-align: right;\">\n",
       "      <th></th>\n",
       "      <th>nav</th>\n",
       "    </tr>\n",
       "    <tr>\n",
       "      <th>date</th>\n",
       "      <th></th>\n",
       "    </tr>\n",
       "  </thead>\n",
       "  <tbody>\n",
       "    <tr>\n",
       "      <th>2013-01-01</th>\n",
       "      <td>163.6338</td>\n",
       "    </tr>\n",
       "    <tr>\n",
       "      <th>2013-01-02</th>\n",
       "      <td>164.7386</td>\n",
       "    </tr>\n",
       "    <tr>\n",
       "      <th>2013-01-03</th>\n",
       "      <td>165.1558</td>\n",
       "    </tr>\n",
       "    <tr>\n",
       "      <th>2013-01-04</th>\n",
       "      <td>165.3131</td>\n",
       "    </tr>\n",
       "    <tr>\n",
       "      <th>2013-01-07</th>\n",
       "      <td>164.5376</td>\n",
       "    </tr>\n",
       "    <tr>\n",
       "      <th>...</th>\n",
       "      <td>...</td>\n",
       "    </tr>\n",
       "    <tr>\n",
       "      <th>2025-10-06</th>\n",
       "      <td>776.8890</td>\n",
       "    </tr>\n",
       "    <tr>\n",
       "      <th>2025-10-07</th>\n",
       "      <td>778.1818</td>\n",
       "    </tr>\n",
       "    <tr>\n",
       "      <th>2025-10-08</th>\n",
       "      <td>776.7234</td>\n",
       "    </tr>\n",
       "    <tr>\n",
       "      <th>2025-10-09</th>\n",
       "      <td>780.5030</td>\n",
       "    </tr>\n",
       "    <tr>\n",
       "      <th>2025-10-10</th>\n",
       "      <td>783.6210</td>\n",
       "    </tr>\n",
       "  </tbody>\n",
       "</table>\n",
       "<p>3145 rows × 1 columns</p>\n",
       "</div>"
      ],
      "text/plain": [
       "                 nav\n",
       "date                \n",
       "2013-01-01  163.6338\n",
       "2013-01-02  164.7386\n",
       "2013-01-03  165.1558\n",
       "2013-01-04  165.3131\n",
       "2013-01-07  164.5376\n",
       "...              ...\n",
       "2025-10-06  776.8890\n",
       "2025-10-07  778.1818\n",
       "2025-10-08  776.7234\n",
       "2025-10-09  780.5030\n",
       "2025-10-10  783.6210\n",
       "\n",
       "[3145 rows x 1 columns]"
      ]
     },
     "execution_count": 122,
     "metadata": {},
     "output_type": "execute_result"
    }
   ],
   "source": [
    "fund_df"
   ]
  },
  {
   "cell_type": "code",
   "execution_count": 123,
   "id": "f6ed6737-b0d1-4bf6-abc4-2a5f526a2f29",
   "metadata": {},
   "outputs": [
    {
     "data": {
      "image/png": "[encoded data removed]",
      "text/plain": [
       "<Figure size 640x480 with 1 Axes>"
      ]
     },
     "metadata": {},
     "output_type": "display_data"
    }
   ],
   "source": [
    "import matplotlib.pyplot as plt\n",
    "\n",
    "plt.plot(fund_df)\n",
    "plt.title(fund_name)\n",
    "plt.show()"
   ]
  }
 ],
 "metadata": {
  "kernelspec": {
   "display_name": "Python 3 (ipykernel)",
   "language": "python",
   "name": "python3"
  },
  "language_info": {
   "codemirror_mode": {
    "name": "ipython",
    "version": 3
   },
   "file_extension": ".py",
   "mimetype": "text/x-python",
   "name": "python",
   "nbconvert_exporter": "python",
   "pygments_lexer": "ipython3",
   "version": "3.12.3"
  }
 },
 "nbformat": 4,
 "nbformat_minor": 5
}
